{
 "cells": [
  {
   "cell_type": "markdown",
   "id": "41dad9a9-bf06-4750-b839-de51a495de6a",
   "metadata": {},
   "source": [
    "# Physics Wallah Week-01 Assignment Work"
   ]
  },
  {
   "cell_type": "markdown",
   "id": "8b9f4bda-9bc7-4e67-a5fa-aa90a67b2eb9",
   "metadata": {},
   "source": [
    "#  Section 1 : Python Basics Questions"
   ]
  },
  {
   "cell_type": "markdown",
   "id": "541d454a-b86f-4d10-b33b-d9d7026c9d86",
   "metadata": {},
   "source": [
    "**Q1.  What is Python, and why is it popular?**"
   ]
  },
  {
   "cell_type": "markdown",
   "id": "6eef1d42-5af8-4445-ba20-e00b872d78bf",
   "metadata": {},
   "source": [
    "**Ans.** \n",
    "\n",
    "Python is a high-level, interpreted programming language known for its simplicity and readability. It was created by Guido van Rossum and first released in 1991.\n",
    "\n",
    "Python is widely used for various purposes, including web development, data analysis, artificial intelligence, machine learning, automation, and more.\n",
    "\n",
    "**Reasons for Python’s popularity:**\n",
    "- Easy to Learn: Its clean and readable syntax makes it ideal for beginners.\n",
    "- Versatile: Applicable in many domains such as web development, data science, AI, scripting, and automation.\n",
    "- Large Community: A vast number of libraries, frameworks, tutorials, and community support are available.\n",
    "- Cross-Platform: Python code can run on different operating systems without modification.\n",
    "- High Demand: Its widespread use in the tech industry leads to strong job opportunities."
   ]
  },
  {
   "cell_type": "markdown",
   "id": "2ff8da18-a740-489b-b2ec-c4c983ec9681",
   "metadata": {},
   "source": [
    "**Q2.  What is an interpreter in Python?**"
   ]
  },
  {
   "cell_type": "markdown",
   "id": "edb12eb6-8e9e-4201-9d5d-4bf028fb797b",
   "metadata": {},
   "source": [
    "**Ans.**\n",
    "\n",
    "An interpreter in Python is a program that executes code line by line, translating high-level Python instructions into machine-level code at runtime. Unlike compiled languages, Python does not require a separate compilation step—the interpreter processes the code directly and immediately.\n",
    "\n",
    "**This approach offers several advantages:**\n",
    "- Interactive Development: You can test code snippets in real-time using tools like the Python shell or Jupyter Notebook.\n",
    "- Faster Debugging: Errors can be detected and fixed quickly, as the code runs line by line.\n",
    "- Platform Independence: The interpreter abstracts away platform-specific details, making Python programs portable across systems.\n",
    "- python’s interpreted nature is one of the key reasons it is so popular for rapid development, scripting, and learning programming.\n"
   ]
  },
  {
   "cell_type": "markdown",
   "id": "d5a6fe09-f95a-48c3-9223-a29d2c7b45ab",
   "metadata": {},
   "source": [
    "**Q3. What are pre-defined keywords in Python?**"
   ]
  },
  {
   "cell_type": "markdown",
   "id": "0b78e82c-7d3e-42e5-9e74-2a91ac3753f1",
   "metadata": {},
   "source": [
    "**Ans.** \n",
    "\n",
    "Pre-defined keywords in Python are reserved words that are an integral part of the language's syntax and structure. These keywords convey specific meanings and instructions to the Python interpreter and cannot be used as identifiers, such as variable names, function names, or class names.\n",
    "\n",
    "They are used to define the logic, control flow, and structure of Python programs.\n",
    "\n",
    "**Examples of Python keywords include:**\n",
    "1. Control flow:  if, elif, else, while, for, break, continue, pass\n",
    "2. Function and class definitions: def, return, lambda, class\n",
    "3. Exception handling: try, except, finally, raise\n",
    "4. Module management: import, from, as\n",
    "5. Boolean and null values: True, False, None\n",
    "6. Other structural elements: with, yield, global, nonlocal, assert, del, is, in, not, and, or\n",
    "\n",
    "To view the full list of keywords in your Python environment, you can use the following code:\n",
    "\n",
    "    help('keywords')\n",
    "\n",
    "**Note:  As of Python 3.x, there are over 30 keywords. Python keywords are case-sensitive and always written in lowercase (except True, False, and None).**"
   ]
  },
  {
   "cell_type": "code",
   "execution_count": 5,
   "id": "ec064c10-4da7-4ac5-88da-e5dee20b553a",
   "metadata": {},
   "outputs": [
    {
     "name": "stdout",
     "output_type": "stream",
     "text": [
      "\n",
      "Here is a list of the Python keywords.  Enter any keyword to get more help.\n",
      "\n",
      "False               class               from                or\n",
      "None                continue            global              pass\n",
      "True                def                 if                  raise\n",
      "and                 del                 import              return\n",
      "as                  elif                in                  try\n",
      "assert              else                is                  while\n",
      "async               except              lambda              with\n",
      "await               finally             nonlocal            yield\n",
      "break               for                 not                 \n",
      "\n"
     ]
    }
   ],
   "source": [
    "# use below also to see all keyword in one screen \n",
    "help('keywords')"
   ]
  },
  {
   "cell_type": "markdown",
   "id": "1351884a-5537-468c-8535-fad328833914",
   "metadata": {},
   "source": [
    "**Q4.  Can keywords be used as variable names?**"
   ]
  },
  {
   "cell_type": "markdown",
   "id": "facda266-c51e-4d10-aea1-026fed0acea7",
   "metadata": {},
   "source": [
    "**Ans.** \n",
    "\n",
    "No, keywords cannot be used as variable names in Python. Keywords are reserved words that have predefined meanings and are used to define the syntax and structure of the language. Using them as variable names will result in a SyntaxError.\n",
    "\n",
    "**🔒 Why not?**\n",
    "\n",
    "Each keyword has a specific role (e.g., if for conditions, def for functions). Allowing them as variable names would create ambiguity in the code and confuse the interpreter.\n",
    "\n",
    "**❌ Invalid Examples (will cause errors):**\n",
    "- if = 10       #SyntaxError\n",
    "- def = \"func\"  #SyntaxError\n",
    "- class = \"A\"   #SyntaxError\n",
    "\n",
    "\n",
    "**✅ Valid Alternatives:**\n",
    "- if_condition = 10\n",
    "- def_name = \"func\"\n",
    "- class_name = \"A\"\n",
    "\n",
    "\n",
    "**✅ How to check if a word is a keyword:**\n",
    "- import keyword\n",
    "- print(keyword.iskeyword(\"if\"))         #Output will be True\n",
    "- print(keyword.iskeyword(\"username\"))   #Output will be False\n",
    "\n"
   ]
  },
  {
   "cell_type": "code",
   "execution_count": 12,
   "id": "61cde9e8-688c-4332-9460-6c963e20d8a4",
   "metadata": {},
   "outputs": [
    {
     "ename": "SyntaxError",
     "evalue": "invalid syntax (2855831800.py, line 1)",
     "output_type": "error",
     "traceback": [
      "\u001b[1;36m  Cell \u001b[1;32mIn[12], line 1\u001b[1;36m\u001b[0m\n\u001b[1;33m    if = 10       #SyntaxError\u001b[0m\n\u001b[1;37m       ^\u001b[0m\n\u001b[1;31mSyntaxError\u001b[0m\u001b[1;31m:\u001b[0m invalid syntax\n"
     ]
    }
   ],
   "source": [
    "if = 10       #SyntaxError\n",
    "def = \"func\"  #SyntaxError\n",
    "class = \"A\"   #SyntaxError"
   ]
  },
  {
   "cell_type": "code",
   "execution_count": 10,
   "id": "461632f9-aa7d-4e09-8e0e-c74b011a4694",
   "metadata": {},
   "outputs": [],
   "source": [
    "if_condition = 10\n",
    "def_name = \"func\"\n",
    "class_name = \"A\""
   ]
  },
  {
   "cell_type": "code",
   "execution_count": 11,
   "id": "e78cc42a-8fef-43dc-98fc-db7be6e1f6ef",
   "metadata": {},
   "outputs": [
    {
     "name": "stdout",
     "output_type": "stream",
     "text": [
      "True\n",
      "False\n"
     ]
    }
   ],
   "source": [
    "import keyword\n",
    "print(keyword.iskeyword(\"if\"))         #Output will be True\n",
    "print(keyword.iskeyword(\"username\"))   #Output will be False"
   ]
  },
  {
   "cell_type": "markdown",
   "id": "ab73856e-6b56-4a1c-bb4a-868c66f5acda",
   "metadata": {},
   "source": [
    "**Q5. What is mutability in Python?**"
   ]
  },
  {
   "cell_type": "markdown",
   "id": "26db6245-5f4d-43d2-84f0-320c772f691c",
   "metadata": {},
   "source": [
    "**Ans.**\n",
    "\n",
    "- Mutability refers to whether an object’s content can be changed after it is created.\n",
    "- Mutable objects can be modified in place. Examples: lists, dictionaries, sets. are mutable\n",
    "- Immutable objects cannot be changed once created—any modification creates a new object.\n",
    "\n",
    "**🔁 Mutable Objects** :  These objects can be changed without changing their identity (memory address).\n",
    "\n",
    "**🔁 Why it matters:** : Understanding mutability is crucial for writing efficient code, especially when dealing with function arguments, memory usage, and debugging side effects."
   ]
  },
  {
   "cell_type": "code",
   "execution_count": 15,
   "id": "981b81ac-6820-4d1f-894f-83d280a86a60",
   "metadata": {},
   "outputs": [
    {
     "name": "stdout",
     "output_type": "stream",
     "text": [
      "[10, 2, 3]\n",
      "world\n"
     ]
    }
   ],
   "source": [
    "# Examples for mutable\n",
    "# Mutable example (list)\n",
    "my_list = [1, 2, 3]\n",
    "my_list[0] = 10  # Modifying the list\n",
    "print(my_list)  # Output: [10, 2, 3]\n",
    "\n",
    "# Immutable example (string)\n",
    "my_string = \"hello\"\n",
    "# This will create a new string instead of modifying the original one\n",
    "my_string = \"world\"  # Reassigning to a new string\n",
    "print(my_string)  # Output: world"
   ]
  },
  {
   "cell_type": "markdown",
   "id": "59a35ed1-f45a-4a4b-ab9c-786beb07a5c0",
   "metadata": {},
   "source": [
    "**Q6. Why are lists mutable, but tuples are immutable?**"
   ]
  },
  {
   "cell_type": "markdown",
   "id": "1d7cf007-357b-4758-90ad-be871999abd9",
   "metadata": {},
   "source": [
    "**Ans.**\n",
    "\n",
    "Lists are mutable, while tuples are immutable, due to the design choices in Python to provide different behaviors for these data structures.\n",
    "\n",
    "🔁 Lists – Mutable Data Structures\n",
    "\n",
    "Lists are mutable, meaning their contents can be altered after creation. This includes operations such as:\n",
    "\n",
    "- Modifying elements\n",
    "- Adding or removing items\n",
    "- Reordering elements\n",
    "\n",
    "This flexibility makes lists suitable for dynamic datasets where modification is expected during the program’s execution.\n",
    "\n",
    "Example: "
   ]
  },
  {
   "cell_type": "code",
   "execution_count": 20,
   "id": "615f6909-27ea-4848-ac93-2c24c1c1de23",
   "metadata": {},
   "outputs": [],
   "source": [
    "#example of Mutable using list \n",
    "my_list = [1, 2, 3]\n",
    "my_list[0] = 10       # Modifies the first element\n",
    "my_list.append(4)     # Adds a new element"
   ]
  },
  {
   "cell_type": "markdown",
   "id": "af9bcc03-d0b0-4bcc-80ed-9c1ff45530f6",
   "metadata": {},
   "source": [
    "**🔒 Tuples – Immutable Data Structures**"
   ]
  },
  {
   "cell_type": "markdown",
   "id": "70854d35-3530-4c6e-8b28-b5b092ead303",
   "metadata": {},
   "source": [
    "Tuples, on the other hand, are immutable. Once a tuple is created, its contents cannot be changed. Any attempt to modify an element will result in a TypeError.\n",
    "\n",
    "This immutability provides several advantages:\n",
    "- Data Integrity: Prevents accidental changes, which is critical in situations requiring constant data.\n",
    "- Hashability: Tuples can be used as keys in dictionaries and elements in sets—something mutable objects like lists cannot do.\n",
    "- Performance: Tuples are generally more memory-efficient and slightly faster due to their fixed size and structure.\n",
    "\n",
    "Example:"
   ]
  },
  {
   "cell_type": "code",
   "execution_count": 21,
   "id": "6c860a94-8960-4758-a528-3ecfc8156118",
   "metadata": {},
   "outputs": [
    {
     "ename": "TypeError",
     "evalue": "'tuple' object does not support item assignment",
     "output_type": "error",
     "traceback": [
      "\u001b[1;31m---------------------------------------------------------------------------\u001b[0m",
      "\u001b[1;31mTypeError\u001b[0m                                 Traceback (most recent call last)",
      "Cell \u001b[1;32mIn[21], line 2\u001b[0m\n\u001b[0;32m      1\u001b[0m my_tuple \u001b[38;5;241m=\u001b[39m (\u001b[38;5;241m1\u001b[39m, \u001b[38;5;241m2\u001b[39m, \u001b[38;5;241m3\u001b[39m)\n\u001b[1;32m----> 2\u001b[0m \u001b[43mmy_tuple\u001b[49m\u001b[43m[\u001b[49m\u001b[38;5;241;43m0\u001b[39;49m\u001b[43m]\u001b[49m \u001b[38;5;241m=\u001b[39m \u001b[38;5;241m10\u001b[39m  \u001b[38;5;66;03m# ❌ TypeError: 'tuple' object does not support item assignment\u001b[39;00m\n",
      "\u001b[1;31mTypeError\u001b[0m: 'tuple' object does not support item assignment"
     ]
    }
   ],
   "source": [
    "my_tuple = (1, 2, 3)\n",
    "my_tuple[0] = 10  # ❌ TypeError: 'tuple' object does not support item assignment"
   ]
  },
  {
   "cell_type": "markdown",
   "id": "f36022ff-3488-42a8-a872-77c5ee722570",
   "metadata": {},
   "source": [
    "**Summary:**\n",
    "\n",
    "| Feature                       | List (Mutable) | Tuple (Immutable)          |\n",
    "| ----------------------------- | -------------- | -------------------------- |\n",
    "| Modifiable                    | Yes            |  No                        |\n",
    "| Syntax                        | `[1, 2, 3]`    | `(1, 2, 3)`                |\n",
    "| Use Case                      | Dynamic data   | Fixed/constant data        |\n",
    "| Memory Efficiency             | Less efficient | More efficient             |\n",
    "| Hashable (usable as dict key) | No             | Yes (if fully immutable)   |\n",
    "\n",
    "**Conclusion:**\n",
    "\n",
    "The mutability of lists allows for flexible, dynamic data management, whereas the immutability of tuples ensures data stability, hashability, and optimization in contexts where change is neither expected nor desired."
   ]
  },
  {
   "cell_type": "markdown",
   "id": "64c901b6-5155-498d-a697-b5203ad71bd9",
   "metadata": {},
   "source": [
    "**Q7.  What is the difference between “==” and “is” operators in Python?**"
   ]
  },
  {
   "cell_type": "markdown",
   "id": "04ce9a3b-1bb3-4304-84d5-a486e4b57776",
   "metadata": {},
   "source": [
    "**Ans.**\n",
    "\n",
    "In Python, == and is are comparison operators, but they serve different purposes:\n",
    "\n",
    "**🔹 == (Equality Operator)**\n",
    "\n",
    "Compares the values of two objects.\n",
    "\n",
    "Returns True if the contents are equal, even if the objects are stored at different memory locations.\n",
    "\n",
    "Example:\n",
    "- a = [1, 2, 3]\n",
    "- b = [1, 2, 3]\n",
    "- print(a == b)  # ✅ True — values are the same\n",
    "\n",
    "🔹 is (Identity Operator)\n",
    "- Compares the identity of two objects (i.e., whether they refer to the same memory location).\n",
    "- Returns True only if both variables point to the exact same object.\n",
    "\n",
    "Example:\n",
    "- a = [1, 2, 3]\n",
    "- b = [1, 2, 3]\n",
    "- c = a\n",
    "- print(a is b)  # ❌ False — different objects in memory\n",
    "- print(a is c)  # ✅ True — same object\n",
    "\n",
    "**Note:** For immutable types like small integers and strings, Python may optimize memory usage by reusing objects, which can make is appear True in some cases—but this behavior should not be relied upon for equality checks.\n",
    "\n",
    "**est Practice:**\n",
    "- Use == for comparing values and is for checking object identity or comparing to None (e.g., if x is None:).\n",
    "\n",
    "Test given example here: "
   ]
  },
  {
   "cell_type": "code",
   "execution_count": 22,
   "id": "ab90311e-7210-4754-b68e-fac2b5280301",
   "metadata": {},
   "outputs": [
    {
     "name": "stdout",
     "output_type": "stream",
     "text": [
      "True\n"
     ]
    }
   ],
   "source": [
    "# (==) Equality Operator \n",
    "a = [1, 2, 3]\n",
    "b = [1, 2, 3]\n",
    "\n",
    "print(a == b)  # ✅ True — values are the same"
   ]
  },
  {
   "cell_type": "code",
   "execution_count": 23,
   "id": "55bcd991-3eea-4fec-8c3e-dbd97e71ab38",
   "metadata": {},
   "outputs": [
    {
     "name": "stdout",
     "output_type": "stream",
     "text": [
      "False\n",
      "True\n"
     ]
    }
   ],
   "source": [
    "# is Operator \n",
    "a = [1, 2, 3]\n",
    "b = [1, 2, 3]\n",
    "c = a\n",
    "print(a is b)  # ❌ False — different objects in memory\n",
    "print(a is c)  # ✅ True — same object"
   ]
  },
  {
   "cell_type": "markdown",
   "id": "57c8c028-e07a-4d0c-92a0-add32154d8dd",
   "metadata": {},
   "source": [
    "**Q8. What are logical operators in Python?**"
   ]
  },
  {
   "cell_type": "markdown",
   "id": "cdbab951-8e34-4b02-a1d1-abdc7d28eb64",
   "metadata": {},
   "source": [
    "**Ans.** \n",
    "\n",
    "Logical operators in Python are used to combine conditional statements and return a Boolean result (True or False). They operate on Boolean values and are primarily used in control flow (e.g., if, while) and expressions involving conditions.\n",
    "\n",
    "Python provides three logical operators:\n",
    "\n",
    "1. and (Logical AND)\n",
    "    - Returns True if both conditions are True.\n",
    "    - Returns False if any condition is False.\n",
    "\n",
    "3.  or (Logical OR)\n",
    "    - Returns True if at least one condition is True.\n",
    "    - Returns False only if both conditions are False.\n",
    "\n",
    "4. not (Logical NOT)\n",
    "    - Reverses the Boolean value.\n",
    "    - not True becomes False, and not False becomes True.\n",
    "\n",
    "**Summary:** \n",
    "\n",
    "| Operator | Description                  | Example          | Result  |\n",
    "| -------- | ---------------------------- | ---------------- | ------- |\n",
    "| `and`    | True if both are True        | `True and False` | `False` |\n",
    "| `or`     | True if at least one is True | `False or True`  | `True`  |\n",
    "| `not`    | Inverts the result           | `not True`       | `False` |"
   ]
  },
  {
   "cell_type": "code",
   "execution_count": 24,
   "id": "2b3a8f52-7d2a-4434-8be9-09c776db03fa",
   "metadata": {},
   "outputs": [
    {
     "name": "stdout",
     "output_type": "stream",
     "text": [
      "True\n"
     ]
    }
   ],
   "source": [
    "# and Example \n",
    "x = 5\n",
    "print(x > 2 and x < 10)  # ✅ True\n"
   ]
  },
  {
   "cell_type": "code",
   "execution_count": 25,
   "id": "bfe0a6a6-1707-4c27-96ab-7decbf00df39",
   "metadata": {},
   "outputs": [
    {
     "name": "stdout",
     "output_type": "stream",
     "text": [
      "True\n"
     ]
    }
   ],
   "source": [
    "# or Example \n",
    "x = 5\n",
    "print(x < 3 or x > 2)  # ✅ True\n"
   ]
  },
  {
   "cell_type": "code",
   "execution_count": 28,
   "id": "0ef53810-f973-45aa-b632-b5e8d6fbfe15",
   "metadata": {},
   "outputs": [
    {
     "name": "stdout",
     "output_type": "stream",
     "text": [
      "True\n"
     ]
    }
   ],
   "source": [
    "# not Example\n",
    "x = False\n",
    "print(not x)  # ✅ True"
   ]
  },
  {
   "cell_type": "markdown",
   "id": "a78575b7-1be9-49b1-aa33-e8175ec65a4a",
   "metadata": {},
   "source": [
    "**Q9. What is type casting in Python?**"
   ]
  },
  {
   "cell_type": "markdown",
   "id": "3bb5b774-7ad8-4afe-8c4c-e86cc9a186e3",
   "metadata": {},
   "source": [
    "**Ans.** \n",
    "\n",
    "Type casting in Python refers to the process of converting a value from one data type to another. It is used to ensure compatibility between different types in expressions or functions, especially when combining strings, numbers, or collections.\n",
    "\n",
    "There can be two types of Type Casting in Python:\n",
    "- Python Implicit Type Conversion\n",
    "- Python Explicit Type Conversion\n"
   ]
  },
  {
   "cell_type": "markdown",
   "id": "0d0d6cc0-77e5-4903-889f-0893732711ab",
   "metadata": {},
   "source": [
    "**Q10.  What is the difference between implicit and explicit type casting?**"
   ]
  },
  {
   "cell_type": "markdown",
   "id": "dd03ec53-0446-4f79-ab85-a0c56d9b75d0",
   "metadata": {},
   "source": [
    "**Ans.** \n",
    "\n",
    "**Implicit Type Casting:**\n",
    "- Performed automatically by Python when it safely converts one data type to another without data\n",
    "- Occurs when combining different numeric types (int, float) in expressions.\n",
    "- Python handles the conversion internally without programmer intervention.\n",
    "\n",
    "**Explicit Type Castinh.**\n",
    "- Done manually by the programmer using built-in functions to force a type conversion.\n",
    "- Used when Python does not automatically convert types (e.g., string to integer).\n",
    "- Helps prevent errors in operations requiring matching types.\n",
    "\n",
    "\n",
    "**Summary**\n",
    "| Feature           | Implicit Casting               | Explicit Casting                         |\n",
    "| ----------------- | ------------------------------ | ---------------------------------------- |\n",
    "| Performed By      | Python interpreter             | Programmer                               |\n",
    "| Conversion Type   | Automatic and safe conversions | Manual conversions (may lose data)       |\n",
    "| Use Case          | Numeric operations             | Mixed-type operations (e.g., str to int) |\n",
    "| Risk of Data Loss | Minimal                        | Possible (e.g., `float` to `int`)        |\n",
    "| Syntax Example    | `int + float → float`          | `int(\"5\")`, `float(\"3.14\")`              |\n",
    "\n",
    "EXAMPLES GIVEN BELOW FOR CLEAR UNDERSTANDING"
   ]
  },
  {
   "cell_type": "code",
   "execution_count": 29,
   "id": "840be05f-52b2-4a07-a89a-eca2abf81935",
   "metadata": {},
   "outputs": [
    {
     "name": "stdout",
     "output_type": "stream",
     "text": [
      "13.5\n",
      "<class 'float'>\n"
     ]
    }
   ],
   "source": [
    "# Implicit Type Casting Example:\n",
    "x = 10       # int\n",
    "y = 3.5      # float\n",
    "\n",
    "result = x + y  # int is implicitly converted to float\n",
    "print(result)   # Output: 13.5\n",
    "print(type(result))  # <class 'float'>"
   ]
  },
  {
   "cell_type": "code",
   "execution_count": 30,
   "id": "90f2bd9e-79ad-4a16-b375-5428b75547c8",
   "metadata": {},
   "outputs": [
    {
     "name": "stdout",
     "output_type": "stream",
     "text": [
      "103\n"
     ]
    }
   ],
   "source": [
    "# Explicit Type casting Example: \n",
    "a = \"100\"        # str\n",
    "b = int(a)       # Explicit cast to int\n",
    "\n",
    "c = 3.99\n",
    "d = int(c)       # Explicit cast to int (truncates decimal)\n",
    "\n",
    "print(b + d)     # Output: 103"
   ]
  },
  {
   "cell_type": "markdown",
   "id": "9349adf8-0047-4617-ad88-972376468245",
   "metadata": {},
   "source": [
    "**Q11. What is the purpose of conditional statements in Python?**"
   ]
  },
  {
   "cell_type": "markdown",
   "id": "eb8c8adc-515c-45a4-99c3-5979dc1ea20d",
   "metadata": {},
   "source": [
    "**Ans.**\n",
    "\n",
    "Conditional statements in Python are used to control the flow of execution based on specified conditions. They allow programs to make decisions, execute certain blocks of code only when a condition is met, and handle different scenarios dynamically.\n",
    "\n",
    "**🎯 Primary Purpose:**\n",
    "\n",
    "To enable decision-making in a program by executing different code paths depending on whether a given condition evaluates to True or False.\n",
    "\n",
    "**Common Conditional Statements in Python:**\n",
    "\n",
    "- if statement – Executes a block if the condition is True.\n",
    "- if-else statement – Executes one block if the condition is True, another if it is False.\n",
    "- if-elif-else chain – Checks multiple conditions in sequence.\n",
    "\n",
    "**Why Conditional Statements Are Important:**\n",
    "\n",
    "- Introduce logic and intelligence into programs\n",
    "- Allow programs to respond to input or data\n",
    "- Make programs interactive and dynamic\n",
    "- Essential for implementing loops, functions, and algorithms\n",
    "\n",
    "**Conclusion:**:  \n",
    "Conditional statements are fundamental to programming logic. They enable Python programs to behave differently under varying conditions, making the software functional, flexible, and intelligent."
   ]
  },
  {
   "cell_type": "code",
   "execution_count": 31,
   "id": "aac27c83-6d9a-4c86-ac2a-c6052d5ebb7e",
   "metadata": {},
   "outputs": [
    {
     "name": "stdout",
     "output_type": "stream",
     "text": [
      "You are eligible to vote.\n"
     ]
    }
   ],
   "source": [
    "# if example \n",
    "age = 20\n",
    "if age >= 18:\n",
    "    print(\"You are eligible to vote.\")"
   ]
  },
  {
   "cell_type": "code",
   "execution_count": 32,
   "id": "4f7c2af4-95f1-4d22-b828-e69da6d3a0f4",
   "metadata": {},
   "outputs": [
    {
     "name": "stdout",
     "output_type": "stream",
     "text": [
      "Odd\n"
     ]
    }
   ],
   "source": [
    "# if-elseexample:\n",
    "num = 5\n",
    "if num % 2 == 0:\n",
    "    print(\"Even\")\n",
    "else:\n",
    "    print(\"Odd\")"
   ]
  },
  {
   "cell_type": "code",
   "execution_count": 33,
   "id": "70b0e061-de17-40b9-ac38-8d85d7ff425b",
   "metadata": {},
   "outputs": [
    {
     "name": "stdout",
     "output_type": "stream",
     "text": [
      "Grade: B\n"
     ]
    }
   ],
   "source": [
    "#if-elif-else example:\n",
    "score = 85\n",
    "if score >= 90:\n",
    "    print(\"Grade: A\")\n",
    "elif score >= 80:\n",
    "    print(\"Grade: B\")\n",
    "else:\n",
    "    print(\"Grade: C or below\")"
   ]
  },
  {
   "cell_type": "markdown",
   "id": "f2db974a-0308-425c-a514-3a759da73aee",
   "metadata": {},
   "source": [
    "**Q12. How does the elif statement work?**"
   ]
  },
  {
   "attachments": {},
   "cell_type": "markdown",
   "id": "9ed9c65a-2aeb-4fff-9fb4-35881da06aea",
   "metadata": {},
   "source": [
    "**Ans.**\n",
    "\n",
    "The elif (short for “else if”) statement in Python is used to check multiple conditions sequentially. It allows a program to test several expressions for truth value and execute a specific block of code for the first true condition encountered.\n",
    "\n",
    "**Synax:**\n",
    "\n",
    "if condition1: \n",
    "    # Do this if condition1 is True\n",
    "elif condition2:\n",
    "    # Do this if condition1 is False AND condition2 is True\n",
    "elif condition3:\n",
    "    # Do this if previous conditions are False AND condition3 is True\n",
    "else:\n",
    "    # Do this if none of the above conditions are True\n",
    "\n",
    "**How it works:**\n",
    "- The program evaluates each condition in order.\n",
    "- As soon as it finds a condition that is True, it executes that block and skips the rest.\n",
    "- If none of the if or elif conditions are true, it executes the else block (if provided).\n",
    "\n",
    "**🔒 Important Notes:**\n",
    "- elif is only evaluated if all previous if/elif conditions are False.\n",
    "- You can have multiple elif statements, but only one else (which is optional).\n",
    "- Improves readability compared to nested if statements."
   ]
  },
  {
   "cell_type": "code",
   "execution_count": 34,
   "id": "38fd137e-267e-4704-912f-ee9b21d62a82",
   "metadata": {},
   "outputs": [
    {
     "name": "stdout",
     "output_type": "stream",
     "text": [
      "Grade: C\n"
     ]
    }
   ],
   "source": [
    "#Example \n",
    "score = 75\n",
    "\n",
    "if score >= 90:\n",
    "    print(\"Grade: A\")\n",
    "elif score >= 80:\n",
    "    print(\"Grade: B\")\n",
    "elif score >= 70:\n",
    "    print(\"Grade: C\")\n",
    "else:\n",
    "    print(\"Grade: D or F\")\n"
   ]
  },
  {
   "cell_type": "markdown",
   "id": "cb51a802-1ac5-43f8-aff9-ae9590d8133d",
   "metadata": {},
   "source": [
    "**Q13. What is the difference between for and while loops?**"
   ]
  },
  {
   "cell_type": "markdown",
   "id": "4790f473-4aac-4775-af01-12de3424f5f5",
   "metadata": {},
   "source": [
    "**Ans.**\n",
    "\n",
    "In Python, both for and while loops are used for iteration,but they differ in usage, structure, and control logic.\n",
    "\n",
    "**for loop:**\n",
    "- The for loop is used for iterating over a sequence (like a list, tuple, string, or range).\n",
    "- It is typically used when the number of iterations is known or predetermined.\n",
    "- Use case: The for loop is used when the number of iterations is known or when iterating over a collection.\n",
    "\n",
    "**Synax:**\n",
    "\n",
    "for item in sequence: \n",
    "    # code block \n",
    "\n",
    "**while loop:**\n",
    "- The while loop runs as long as a condition is true.\n",
    "- It is typically used when the number of iterations is unknown and depends on a condition.\n",
    "- Use case: The while loop is used when you do not know the number of iterations in advance but want to repeat until a certain condition is met\n",
    "\n",
    "**Synax:**\n",
    "\n",
    "while condition: \n",
    "    # code block \n",
    "\n",
    "\n",
    "**Summary of Differences:**\n",
    "\n",
    "| Feature               | `for` Loop                             | `while` Loop                              |\n",
    "| --------------------- | -------------------------------------- | ----------------------------------------- |\n",
    "| Iteration Type        | Definite                               | Indefinite                                |\n",
    "| Use Case              | When iterating over a sequence         | When looping until a condition is false   |\n",
    "| Loop Control          | Controlled by iterable (e.g., `range`) | Controlled by condition                   |\n",
    "| Risk of Infinite Loop | Low                                    | Higher (if condition never becomes False) |\n",
    "| Common Uses           | Iterating lists, ranges, strings       | Waiting for user input, retry logic       |\n"
   ]
  },
  {
   "cell_type": "code",
   "execution_count": 1,
   "id": "4a40b4b4-0e4c-4d89-93bb-38213373225e",
   "metadata": {},
   "outputs": [
    {
     "name": "stdout",
     "output_type": "stream",
     "text": [
      "apple\n",
      "banana\n",
      "cherry\n"
     ]
    }
   ],
   "source": [
    "# Iterating through a list using a for loop\n",
    "fruits = [\"apple\", \"banana\", \"cherry\"]\n",
    "for fruit in fruits:\n",
    "    print(fruit)"
   ]
  },
  {
   "cell_type": "code",
   "execution_count": 2,
   "id": "92ab4828-216c-4cb0-a1ff-4f24441f4bdb",
   "metadata": {},
   "outputs": [
    {
     "name": "stdout",
     "output_type": "stream",
     "text": [
      "1\n",
      "2\n",
      "3\n",
      "4\n",
      "5\n"
     ]
    }
   ],
   "source": [
    "# Using a while loop to print numbers from 1 to 5\n",
    "x = 1\n",
    "while x <= 5:\n",
    "    print(x)\n",
    "    x += 1"
   ]
  },
  {
   "cell_type": "markdown",
   "id": "273bf15d-17f2-4e64-8775-7dfad65c3459",
   "metadata": {},
   "source": [
    "**Q14. Describe a scenario where a while loop is more suitable than a for loop?**"
   ]
  },
  {
   "cell_type": "markdown",
   "id": "5bde1c1d-81bd-49e4-9da6-8d3351746d8f",
   "metadata": {},
   "source": [
    "**Ans.**\n",
    "\n",
    "A while loop is more suitable than a for loop in situations where the number of iterations is unknown and depends on a dynamic condition that can change during the loop execution.\n",
    "\n",
    "**Scenario:** \n",
    "- User Input Validation\n",
    "- Consider a scenario where you want to ask the user for their age.\n",
    "- The user should only enter a valid age (a positive integer).\n",
    "- If the user enters an invalid age (such as a negative number or a non-numeric input), the program should keep asking until a valid input is given.\n",
    "- Since you don't know how many attempts it will take for the user to provide valid input, a while loop is more suitable here.\n",
    "\n",
    "**Why while is suitable:**\n",
    "- The number of attempts is unknown.\n",
    "- The loop continues until the condition (a valid age) is met, making it ideal for input validation."
   ]
  },
  {
   "cell_type": "code",
   "execution_count": 39,
   "id": "f3ea57b3-867e-4253-87e3-8f9874578739",
   "metadata": {},
   "outputs": [
    {
     "name": "stdin",
     "output_type": "stream",
     "text": [
      "Enter a positive number:  1\n"
     ]
    },
    {
     "name": "stdout",
     "output_type": "stream",
     "text": [
      "You entered: 1\n"
     ]
    }
   ],
   "source": [
    "# EXAMPLE CASE FOR NDERTANDING\n",
    "number = -1\n",
    "\n",
    "while number <= 0:\n",
    "    try:\n",
    "        number = int(input(\"Enter a positive number: \"))\n",
    "    except ValueError:\n",
    "        print(\"Invalid input. Please enter a number.\")\n",
    "\n",
    "print(f\"You entered: {number}\")"
   ]
  },
  {
   "cell_type": "markdown",
   "id": "8a956f75-537b-4672-8812-d6440ef5e656",
   "metadata": {},
   "source": [
    "#  Section 2 : Python Practical Questions"
   ]
  },
  {
   "cell_type": "markdown",
   "id": "b6372f9f-f065-4465-920b-ab6eb02cb385",
   "metadata": {},
   "source": [
    "**Q1. Write a Python program to print \"Hello, World!\"**"
   ]
  },
  {
   "cell_type": "code",
   "execution_count": 40,
   "id": "4bdae36b-3db6-4521-958a-ed5848921573",
   "metadata": {},
   "outputs": [
    {
     "name": "stdout",
     "output_type": "stream",
     "text": [
      "Hello, World!\n"
     ]
    }
   ],
   "source": [
    "#Write a Python Program to print hello World \n",
    "#Ans:\n",
    "print(\"Hello, World!\")"
   ]
  },
  {
   "cell_type": "markdown",
   "id": "3ec0a19e-0ba7-4c96-ae30-4a879c3172cd",
   "metadata": {},
   "source": [
    "**Q2. Write a Python program that displays your name and age.**"
   ]
  },
  {
   "cell_type": "code",
   "execution_count": 47,
   "id": "48046d25-a383-4c62-9e08-3b4556e41908",
   "metadata": {},
   "outputs": [
    {
     "name": "stdout",
     "output_type": "stream",
     "text": [
      "Hi my name is:  Umer Nazir 25\n"
     ]
    }
   ],
   "source": [
    "#Write a Python program that displays your name and age.\n",
    "#Ans_1: \n",
    "name = \"Umer Nazir\"\n",
    "age = 25\n",
    "print(\"Hi my name is: \", name, age)"
   ]
  },
  {
   "cell_type": "code",
   "execution_count": 50,
   "id": "a441c909-a023-4ee1-b2db-848dca0ffa3e",
   "metadata": {},
   "outputs": [
    {
     "name": "stdout",
     "output_type": "stream",
     "text": [
      "My name is Umer Nazir and I am 26 years old.\n"
     ]
    }
   ],
   "source": [
    "#Ans_2: \n",
    "name = \"Umer Nazir\"\n",
    "age = 26\n",
    "print(f\"My name is {name} and I am {age} years old.\")"
   ]
  },
  {
   "cell_type": "markdown",
   "id": "b860e9be-2d5a-4c0a-8568-fd6963505145",
   "metadata": {},
   "source": [
    "**Q3. Write code to print all the pre-defined keywords in Python using the keyword library?**"
   ]
  },
  {
   "cell_type": "code",
   "execution_count": 48,
   "id": "db0ab05e-defe-4b6c-b582-b7ccc738989e",
   "metadata": {},
   "outputs": [
    {
     "name": "stdout",
     "output_type": "stream",
     "text": [
      "\n",
      "Here is a list of the Python keywords.  Enter any keyword to get more help.\n",
      "\n",
      "False               class               from                or\n",
      "None                continue            global              pass\n",
      "True                def                 if                  raise\n",
      "and                 del                 import              return\n",
      "as                  elif                in                  try\n",
      "assert              else                is                  while\n",
      "async               except              lambda              with\n",
      "await               finally             nonlocal            yield\n",
      "break               for                 not                 \n",
      "\n"
     ]
    }
   ],
   "source": [
    "# Write code to print all the pre-defined keywords in Python using the keyword library\n",
    "#Ans_1:\n",
    "help('keywords')"
   ]
  },
  {
   "cell_type": "code",
   "execution_count": 49,
   "id": "478e7739-a27d-49ee-852e-7873a6aae6c0",
   "metadata": {},
   "outputs": [
    {
     "name": "stdout",
     "output_type": "stream",
     "text": [
      "['False', 'None', 'True', 'and', 'as', 'assert', 'async', 'await', 'break', 'class', 'continue', 'def', 'del', 'elif', 'else', 'except', 'finally', 'for', 'from', 'global', 'if', 'import', 'in', 'is', 'lambda', 'nonlocal', 'not', 'or', 'pass', 'raise', 'return', 'try', 'while', 'with', 'yield']\n"
     ]
    }
   ],
   "source": [
    "#Ans_2: keyword in list\n",
    "import keyword\n",
    "print(keyword.kwlist)"
   ]
  },
  {
   "cell_type": "markdown",
   "id": "a386539f-8711-45ab-9e98-3373b5e118e4",
   "metadata": {},
   "source": [
    "**Q4.  Write a program that checks if a given word is a Python keyword?**"
   ]
  },
  {
   "cell_type": "code",
   "execution_count": null,
   "id": "24708b56-54c4-48b2-81a3-77c2f6797859",
   "metadata": {},
   "outputs": [],
   "source": [
    "#Ans. \n",
    "import keyword\n",
    "# Prompt the user for input\n",
    "word = input(\"Enter a word to check if it's a Python keyword: \")\n",
    "\n",
    "# Check and display result\n",
    "if keyword.iskeyword(word):\n",
    "    print(f\"✅ '{word}' is a Python keyword.\")\n",
    "else:\n",
    "    print(f\"❌ '{word}' is NOT a Python keyword.\")\n"
   ]
  },
  {
   "cell_type": "markdown",
   "id": "042d6b0c-5564-43b2-b6d6-17b858a4869e",
   "metadata": {},
   "source": [
    "**Notes:**\n",
    "- The keyword module is part of the Python standard library.\n",
    "- keyword.iskeyword(word) returns True if the word is a reserved Python keyword (e.g., def, if, return), otherwise False."
   ]
  },
  {
   "cell_type": "markdown",
   "id": "33c16079-258f-4162-92ef-08083b3ac6ef",
   "metadata": {},
   "source": [
    "**Q5.  Create a list and tuple in Python, and demonstrate how attempting to change an element works differently for each.**"
   ]
  },
  {
   "cell_type": "code",
   "execution_count": 54,
   "id": "ee0c5c6a-d876-47cb-9297-5e198fab74b4",
   "metadata": {},
   "outputs": [
    {
     "name": "stdout",
     "output_type": "stream",
     "text": [
      "Original list: [10, 20, 30]\n",
      "Modified list: [10, 99, 30]\n",
      "\n",
      "Original tuple: (10, 20, 30)\n",
      "Error when modifying tuple: 'tuple' object does not support item assignment\n"
     ]
    }
   ],
   "source": [
    "#Ans. \n",
    "# Define a list (mutable)\n",
    "my_list = [10, 20, 30]\n",
    "print(\"Original list:\", my_list)\n",
    "\n",
    "# Modify an element in the list\n",
    "my_list[1] = 99\n",
    "print(\"Modified list:\", my_list)\n",
    "\n",
    "# Define a tuple (immutable)\n",
    "my_tuple = (10, 20, 30)\n",
    "print(\"\\nOriginal tuple:\", my_tuple)\n",
    "\n",
    "# Attempt to modify an element in the tuple\n",
    "try:\n",
    "    my_tuple[1] = 99\n",
    "except TypeError as e:\n",
    "    print(\"Error when modifying tuple:\", e)"
   ]
  },
  {
   "cell_type": "markdown",
   "id": "e8c1c76f-99a4-4557-a388-7a310f5e04e1",
   "metadata": {},
   "source": [
    "**6. Write a function to demonstrate the behavior of mutable and immutable arguments.**"
   ]
  },
  {
   "cell_type": "code",
   "execution_count": 55,
   "id": "40632de9-a981-47a2-b0f8-785b1f58fdb9",
   "metadata": {},
   "outputs": [
    {
     "name": "stdout",
     "output_type": "stream",
     "text": [
      "Before function call:\n",
      "x: 5\n",
      "my_list: [1, 2, 3]\n",
      "Inside function - num (immutable): 15\n",
      "Inside function - data_list (mutable): [1, 2, 3, 100]\n",
      "\n",
      "After function call:\n",
      "x (unchanged): 5\n",
      "my_list (modified): [1, 2, 3, 100]\n"
     ]
    }
   ],
   "source": [
    "#Ans:\n",
    "def modify_data(num, data_list):\n",
    "    # Try modifying the immutable integer\n",
    "    num += 10\n",
    "    print(f\"Inside function - num (immutable): {num}\")\n",
    "    \n",
    "    # Modify the mutable list\n",
    "    data_list.append(100)\n",
    "    print(f\"Inside function - data_list (mutable): {data_list}\")\n",
    "\n",
    "# Immutable object (int)\n",
    "x = 5\n",
    "# Mutable object (list)\n",
    "my_list = [1, 2, 3]\n",
    "\n",
    "print(\"Before function call:\")\n",
    "print(f\"x: {x}\")\n",
    "print(f\"my_list: {my_list}\")\n",
    "\n",
    "# Call the function\n",
    "modify_data(x, my_list)\n",
    "\n",
    "print(\"\\nAfter function call:\")\n",
    "print(f\"x (unchanged): {x}\")\n",
    "print(f\"my_list (modified): {my_list}\")\n"
   ]
  },
  {
   "cell_type": "markdown",
   "id": "c0d65769-ac20-46cc-86a6-4c4c4e59b0e6",
   "metadata": {},
   "source": [
    "**Explanation:**\n",
    "- x (int) is an immutable object. Even though it was changed inside the function, the change did not affect the original variable outside the function.\n",
    "- my_list (list) is a mutable object. Modifying it inside the function affects the original list.\n",
    "\n",
    "**Conclusion:**\n",
    "- Immutable types (e.g., int, str) retain their original value outside the function.\n",
    "- Mutable types (e.g., list, dict) can be modified in-place within the function, and those changes persist."
   ]
  },
  {
   "cell_type": "markdown",
   "id": "29cfd126-be98-4114-9ca3-8a2c0921e281",
   "metadata": {},
   "source": [
    "**Q7. Write a program that performs basic arithmetic operations on two user-input numbers.**"
   ]
  },
  {
   "cell_type": "markdown",
   "id": "7e9a522e-5ad4-483c-bf51-244f703eeadf",
   "metadata": {},
   "source": [
    "#Ans. \n",
    "# Take input from the user\n",
    "num1 = float(input(\"Enter the first number: \"))\n",
    "num2 = float(input(\"Enter the second number: \"))\n",
    "\n",
    "# Perform arithmetic operations\n",
    "addition = num1 + num2\n",
    "subtraction = num1 - num2\n",
    "multiplication = num1 * num2\n",
    "\n",
    "# Handle division carefully to avoid division by zero\n",
    "if num2 != 0:\n",
    "    division = num1 / num2\n",
    "    modulus = num1 % num2\n",
    "else:\n",
    "    division = \"Undefined (division by zero)\"\n",
    "    modulus = \"Undefined (modulus by zero)\"\n",
    "\n",
    "# Display results\n",
    "print(\"\\n--- Results ---\")\n",
    "print(f\"Addition:       {addition}\")\n",
    "print(f\"Subtraction:    {subtraction}\")\n",
    "print(f\"Multiplication: {multiplication}\")\n",
    "print(f\"Division:       {division}\")\n",
    "print(f\"Modulus:        {modulus}\")"
   ]
  },
  {
   "cell_type": "markdown",
   "id": "6dc0e4b3-0bb3-4586-9cd5-186ca72ab1c0",
   "metadata": {},
   "source": [
    "**Q8. Write a program to demonstrate the use of logical operators.**"
   ]
  },
  {
   "cell_type": "markdown",
   "id": "406f69ad-073b-469b-97e9-e1440934f93e",
   "metadata": {},
   "source": [
    "**Ans.**\n",
    "\n",
    "**Logical Operator are:**\n",
    "\n",
    "| Operator | Description                          | Example                             |\n",
    "| -------- | ------------------------------------ | ----------------------------------- |\n",
    "| `and`    | True if **both** conditions are true | `age >= 18 and has_ticket == 'yes'` |\n",
    "| `or`     | True if **at least one** is true     | `age >= 18 or has_ticket == 'yes'`  |\n",
    "| `not`    | Reverses the result (True ⇄ False)   | `not is_member == 'yes'`            | "
   ]
  },
  {
   "cell_type": "code",
   "execution_count": 58,
   "id": "00edaefa-698e-4f85-908c-9716de0ebeb1",
   "metadata": {},
   "outputs": [
    {
     "name": "stdin",
     "output_type": "stream",
     "text": [
      "Enter your age:  27\n",
      "Do you have a ticket? (yes/no):  YES\n"
     ]
    },
    {
     "name": "stdout",
     "output_type": "stream",
     "text": [
      "Entry allowed.\n",
      "You meet at least one requirement.\n"
     ]
    },
    {
     "name": "stdin",
     "output_type": "stream",
     "text": [
      "Are you a member? (yes/no):  NO\n"
     ]
    },
    {
     "name": "stdout",
     "output_type": "stream",
     "text": [
      "Access to member area denied.\n"
     ]
    }
   ],
   "source": [
    "# Take input from the user\n",
    "age = int(input(\"Enter your age: \"))\n",
    "has_ticket = input(\"Do you have a ticket? (yes/no): \").lower()\n",
    "\n",
    "# Use logical AND\n",
    "if age >= 18 and has_ticket == 'yes':\n",
    "    print(\"Entry allowed.\")\n",
    "else:\n",
    "    print(\"Entry denied.\")\n",
    "\n",
    "# Use logical OR\n",
    "if age >= 18 or has_ticket == 'yes':\n",
    "    print(\"You meet at least one requirement.\")\n",
    "\n",
    "# Use logical NOT\n",
    "is_member = input(\"Are you a member? (yes/no): \").lower()\n",
    "if not is_member == 'yes':\n",
    "    print(\"Access to member area denied.\")\n",
    "else:\n",
    "    print(\"Welcome to the member area.\")"
   ]
  },
  {
   "cell_type": "markdown",
   "id": "68c74926-117b-4c19-9d18-bfb8c336752e",
   "metadata": {},
   "source": [
    "**Q9. Write a Python program to convert user input from string to integer, float, and boolean types.**"
   ]
  },
  {
   "cell_type": "code",
   "execution_count": 63,
   "id": "cfdd5053-2468-4745-8b0c-3063639a1019",
   "metadata": {},
   "outputs": [
    {
     "name": "stdin",
     "output_type": "stream",
     "text": [
      "Enter a value:  5\n"
     ]
    },
    {
     "name": "stdout",
     "output_type": "stream",
     "text": [
      "Integer conversion successful: 5\n",
      "Float conversion successful: 5.0\n",
      "Boolean conversion result: True\n"
     ]
    }
   ],
   "source": [
    "#Ans_1\n",
    "# Take user input as a string\n",
    "user_input = input(\"Enter a value: \")\n",
    "\n",
    "# Convert to integer\n",
    "try:\n",
    "    int_value = int(user_input)\n",
    "    print(f\"Integer conversion successful: {int_value}\")\n",
    "except ValueError:\n",
    "    print(\"Cannot convert to integer.\")\n",
    "\n",
    "# Convert to float\n",
    "try:\n",
    "    float_value = float(user_input)\n",
    "    print(f\"Float conversion successful: {float_value}\")\n",
    "except ValueError:\n",
    "    print(\"Cannot convert to float.\")\n",
    "\n",
    "# Convert to boolean\n",
    "# Any non-empty string except 'False' (case-insensitive) is considered True\n",
    "bool_value = user_input.strip().lower() not in ['false', '0', '', 'none']\n",
    "print(f\"Boolean conversion result: {bool_value}\")"
   ]
  },
  {
   "cell_type": "code",
   "execution_count": 65,
   "id": "06031529-f743-469f-b69e-2918eed20eb0",
   "metadata": {},
   "outputs": [
    {
     "name": "stdin",
     "output_type": "stream",
     "text": [
      "Enter a value:  45\n"
     ]
    },
    {
     "name": "stdout",
     "output_type": "stream",
     "text": [
      "Integer: 45\n",
      "Float: 45.0\n",
      "Boolean: True\n"
     ]
    }
   ],
   "source": [
    "#Ans_2:\n",
    "# Get input from the user (input is always a string)\n",
    "user_input = input(\"Enter a value: \")\n",
    "\n",
    "# Convert to integer\n",
    "int_value = int(user_input)  # Convert input to integer\n",
    "print(\"Integer:\", int_value)\n",
    "\n",
    "# Convert to float\n",
    "float_value = float(user_input)  # Convert input to float\n",
    "print(\"Float:\", float_value)\n",
    "\n",
    "# Convert to boolean (empty string is False, non-empty string is True)\n",
    "bool_value = bool(user_input)\n",
    "print(\"Boolean:\", bool_value)"
   ]
  },
  {
   "cell_type": "markdown",
   "id": "b68cacb1-c0ad-4166-a046-2f867e2df062",
   "metadata": {},
   "source": [
    "**Q10.  Write code to demonstrate type casting with list elements**"
   ]
  },
  {
   "cell_type": "code",
   "execution_count": 68,
   "id": "caa174ba-707a-41a4-9a5d-af5ad022aedc",
   "metadata": {},
   "outputs": [
    {
     "name": "stdout",
     "output_type": "stream",
     "text": [
      "Original string list: ['10', '20', '30', '0', '']\n",
      "Integer list: [10, 20, 30, 0, None]\n",
      "Float list: [10.0, 20.0, 30.0, 0.0, None]\n",
      "Boolean list: [True, True, True, True, False]\n"
     ]
    }
   ],
   "source": [
    "#Ans.\n",
    "# Original list of string numbers\n",
    "str_list = ['10', '20', '30', '0', '']\n",
    "\n",
    "print(\"Original string list:\", str_list)\n",
    "\n",
    "# Convert to integers (ignoring invalid entries)\n",
    "int_list = []\n",
    "for item in str_list:\n",
    "    try:\n",
    "        int_list.append(int(item))\n",
    "    except ValueError:\n",
    "        int_list.append(None)  # or use a default value\n",
    "print(\"Integer list:\", int_list)\n",
    "\n",
    "# Convert to floats\n",
    "float_list = []\n",
    "for item in str_list:\n",
    "    try:\n",
    "        float_list.append(float(item))\n",
    "    except ValueError:\n",
    "        float_list.append(None)\n",
    "print(\"Float list:\", float_list)\n",
    "\n",
    "# Convert to booleans\n",
    "bool_list = [bool(item) for item in str_list]\n",
    "print(\"Boolean list:\", bool_list)"
   ]
  },
  {
   "cell_type": "markdown",
   "id": "7917c962-d262-4e8d-86eb-04f9903a1fae",
   "metadata": {},
   "source": [
    "**Q11. Write a program that checks if a number is positive, negative, or zero**"
   ]
  },
  {
   "cell_type": "code",
   "execution_count": 73,
   "id": "857ea980-4db2-4d66-be90-9400b74076c2",
   "metadata": {},
   "outputs": [
    {
     "name": "stdin",
     "output_type": "stream",
     "text": [
      "Enter a number:  12\n"
     ]
    },
    {
     "name": "stdout",
     "output_type": "stream",
     "text": [
      "The number is positive.\n"
     ]
    }
   ],
   "source": [
    "#Ans. \n",
    "# Take input from the user\n",
    "num = float(input(\"Enter a number: \"))\n",
    "\n",
    "# Check if the number is positive, negative, or zero\n",
    "if num > 0:\n",
    "    print(\"The number is positive.\")\n",
    "elif num < 0:\n",
    "    print(\"The number is negative.\")\n",
    "else:\n",
    "    print(\"The number is zero.\")\n"
   ]
  },
  {
   "cell_type": "markdown",
   "id": "2911a3c9-27f3-4119-8078-af0beb02b4dd",
   "metadata": {},
   "source": [
    "**Q12. Write a for loop to print numbers from 1 to 10.**"
   ]
  },
  {
   "cell_type": "code",
   "execution_count": 79,
   "id": "ab610417-9118-47b4-821b-1d1f6b0c4fae",
   "metadata": {},
   "outputs": [
    {
     "name": "stdout",
     "output_type": "stream",
     "text": [
      "1\n",
      "2\n",
      "3\n",
      "4\n",
      "5\n",
      "6\n",
      "7\n",
      "8\n",
      "9\n",
      "10\n"
     ]
    }
   ],
   "source": [
    "#Ans. \n",
    "for i in range(1, 11):\n",
    "    print(i)"
   ]
  },
  {
   "cell_type": "markdown",
   "id": "64e3ae54-3435-443c-8bde-f512d1e22c07",
   "metadata": {},
   "source": [
    "**Q13. Write a Python program to find the sum of all even numbers between 1 and 50.**"
   ]
  },
  {
   "cell_type": "code",
   "execution_count": 80,
   "id": "03657e68-f68a-48e0-bca7-5744f56aaee4",
   "metadata": {},
   "outputs": [
    {
     "name": "stdout",
     "output_type": "stream",
     "text": [
      "The sum of all even numbers from 1 to 50 is: 650\n"
     ]
    }
   ],
   "source": [
    "#Ans.\n",
    "# Initialize sum\n",
    "even_sum = 0\n",
    "\n",
    "# Loop through numbers 1 to 50\n",
    "for number in range(1, 51):\n",
    "    if number % 2 == 0:\n",
    "        even_sum += number\n",
    "\n",
    "# Display the result\n",
    "print(\"The sum of all even numbers from 1 to 50 is:\", even_sum)\n"
   ]
  },
  {
   "cell_type": "markdown",
   "id": "0fbd8fc9-4d3a-47b0-af8c-c1594371cfc0",
   "metadata": {},
   "source": [
    "**Q14. Write a program to reverse a string using a while loop**"
   ]
  },
  {
   "cell_type": "code",
   "execution_count": 81,
   "id": "040a9f6a-16aa-4d80-bea4-b1b4511926c7",
   "metadata": {},
   "outputs": [
    {
     "name": "stdin",
     "output_type": "stream",
     "text": [
      "Enter a string to reverse:  Umer Nazir\n"
     ]
    },
    {
     "name": "stdout",
     "output_type": "stream",
     "text": [
      "Reversed string: rizaN remU\n"
     ]
    }
   ],
   "source": [
    "#Ans.\n",
    "# Take input from the user\n",
    "original_string = input(\"Enter a string to reverse: \")\n",
    "\n",
    "# Initialize an empty string for the reversed result\n",
    "reversed_string = \"\"\n",
    "\n",
    "# Set the index to the last character\n",
    "index = len(original_string) - 1\n",
    "\n",
    "# Loop through the string in reverse using a while loop\n",
    "while index >= 0:\n",
    "    reversed_string += original_string[index]\n",
    "    index -= 1\n",
    "\n",
    "# Display the reversed string\n",
    "print(\"Reversed string:\", reversed_string)\n"
   ]
  },
  {
   "cell_type": "markdown",
   "id": "96709e0d-cf68-4a3a-85b2-cff5d0a65a7f",
   "metadata": {},
   "source": [
    "**Q15. Write a Python program to calculate the factorial of a number provided by the user using a while loop.**"
   ]
  },
  {
   "cell_type": "code",
   "execution_count": 87,
   "id": "ca24abba-646b-4fd4-afcb-d7b9a9b913b0",
   "metadata": {},
   "outputs": [
    {
     "name": "stdin",
     "output_type": "stream",
     "text": [
      "Enter a non-negative integer:  5\n"
     ]
    },
    {
     "name": "stdout",
     "output_type": "stream",
     "text": [
      "The factorial of 5 is: 120\n"
     ]
    }
   ],
   "source": [
    "#Ans. \n",
    "# Take input from the user\n",
    "num = int(input(\"Enter a non-negative integer: \"))\n",
    "\n",
    "# Validate input\n",
    "if num < 0:\n",
    "    print(\"Factorial is not defined for negative numbers.\")\n",
    "else:\n",
    "    factorial = 1\n",
    "    counter = num\n",
    "\n",
    "    while counter > 1:\n",
    "        factorial *= counter\n",
    "        counter -= 1\n",
    "\n",
    "    # Display the result\n",
    "    print(f\"The factorial of {num} is: {factorial}\")\n"
   ]
  }
 ],
 "metadata": {
  "kernelspec": {
   "display_name": "Python 3 (ipykernel)",
   "language": "python",
   "name": "python3"
  },
  "language_info": {
   "codemirror_mode": {
    "name": "ipython",
    "version": 3
   },
   "file_extension": ".py",
   "mimetype": "text/x-python",
   "name": "python",
   "nbconvert_exporter": "python",
   "pygments_lexer": "ipython3",
   "version": "3.13.3"
  }
 },
 "nbformat": 4,
 "nbformat_minor": 5
}
